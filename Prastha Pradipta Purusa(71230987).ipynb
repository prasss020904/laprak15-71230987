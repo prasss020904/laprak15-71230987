{
 "cells": [
  {
   "cell_type": "code",
   "execution_count": null,
   "id": "59a7db47",
   "metadata": {},
   "outputs": [],
   "source": [
    "import re\n",
    "from datetime import datetime\n",
    "\n",
    "with open(\"txt.txt\", \"r\") as file:\n",
    "    isi = file.read()\n",
    "\n",
    "sekarang = datetime.now()\n",
    "tanggal = re.findall(r'\\d{4}-\\d{2}-\\d{2}', isi)\n",
    "\n",
    "for i in tanggal:\n",
    "    format_tanggal = datetime.strptime(i, \"%Y-%m-%d\")\n",
    "    selisih = (sekarang - format_tanggal).days\n",
    "    tanggal_terformat = format_tanggal.strftime(\"%d-%m-%Y %H:%M:%S\")\n",
    "    print(f\"{tanggal_terformat} selisih {selisih} hari\")\n"
   ]
  },
  {
   "cell_type": "code",
   "execution_count": null,
   "id": "57eb279d",
   "metadata": {},
   "outputs": [],
   "source": [
    "import re\n",
    "import random\n",
    "import string\n",
    "\n",
    "with open('txt2.txt', 'r') as file:\n",
    "    isi = file.read()\n",
    "line = isi.strip().split('\\n')\n",
    "hasil = []\n",
    "\n",
    "for i in line:\n",
    "    pola = re.compile(r'(.+?) dimiliki oleh (.+)')\n",
    "    cocok = pola.match(i)\n",
    "    if cocok:\n",
    "        email = cocok.group(1).strip()\n",
    "        nama = cocok.group(2).strip().split()[0]  \n",
    "        username = email.split('@')[0]\n",
    "        panjang_password = 8\n",
    "        acak = string.ascii_letters + string.digits \n",
    "        password = ''.join(random.choice(acak) for i in range(panjang_password))\n",
    "        hasil.append(f\"{email} username: {username}, password: {password}\")\n",
    "for j in hasil:\n",
    "    print(j)"
   ]
  }
 ],
 "metadata": {
  "kernelspec": {
   "display_name": "Python 3 (ipykernel)",
   "language": "python",
   "name": "python3"
  },
  "language_info": {
   "codemirror_mode": {
    "name": "ipython",
    "version": 3
   },
   "file_extension": ".py",
   "mimetype": "text/x-python",
   "name": "python",
   "nbconvert_exporter": "python",
   "pygments_lexer": "ipython3",
   "version": "3.11.5"
  }
 },
 "nbformat": 4,
 "nbformat_minor": 5
}
